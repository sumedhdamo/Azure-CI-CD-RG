{
  "nbformat": 4,
  "nbformat_minor": 0,
  "metadata": {
    "colab": {
      "provenance": [],
      "include_colab_link": true
    },
    "kernelspec": {
      "name": "python3",
      "display_name": "Python 3"
    },
    "language_info": {
      "name": "python"
    }
  },
  "cells": [
    {
      "cell_type": "markdown",
      "metadata": {
        "id": "view-in-github",
        "colab_type": "text"
      },
      "source": [
        "<a href=\"https://colab.research.google.com/github/sumedhdamo/Azure-CI-CD-RG/blob/main/Module_04_Python_Lecture_01_File_Input_Output.ipynb\" target=\"_parent\"><img src=\"https://colab.research.google.com/assets/colab-badge.svg\" alt=\"Open In Colab\"/></a>"
      ]
    },
    {
      "cell_type": "code",
      "source": [
        "x = -9\n",
        "y =  -9\n",
        "\n",
        "print(x is y)\n",
        "print(x == y)\n"
      ],
      "metadata": {
        "id": "mzszVLwVMq-Y",
        "colab": {
          "base_uri": "https://localhost:8080/"
        },
        "outputId": "fa660f97-bb61-40b8-899b-afa5c76b18fb"
      },
      "execution_count": null,
      "outputs": [
        {
          "output_type": "stream",
          "name": "stdout",
          "text": [
            "False\n",
            "True\n"
          ]
        }
      ]
    },
    {
      "cell_type": "code",
      "source": [
        "x = 8\n",
        "y = 8\n",
        "#Range -5 to 256 . Python Interning\n",
        "\n",
        "print(x is y)\n",
        "print(x == y)\n"
      ],
      "metadata": {
        "colab": {
          "base_uri": "https://localhost:8080/"
        },
        "id": "toCM3eN4aLE8",
        "outputId": "6a6c8f62-6a83-4b25-d871-beb819e5fc2d"
      },
      "execution_count": null,
      "outputs": [
        {
          "output_type": "stream",
          "name": "stdout",
          "text": [
            "True\n",
            "True\n"
          ]
        }
      ]
    },
    {
      "cell_type": "code",
      "source": [
        "x =  1500\n",
        "y = x\n",
        "\n",
        "print(x is y)"
      ],
      "metadata": {
        "colab": {
          "base_uri": "https://localhost:8080/"
        },
        "id": "ViC8KiNlZ3Md",
        "outputId": "d5c5088f-e3d6-457c-ad24-de61893ce3d1"
      },
      "execution_count": null,
      "outputs": [
        {
          "output_type": "stream",
          "name": "stdout",
          "text": [
            "True\n"
          ]
        }
      ]
    },
    {
      "cell_type": "code",
      "source": [
        "f = open(\"demofile.txt\", \"r\")\n",
        "\n",
        "file = f.readlines()\n",
        "\n",
        "print(file)\n",
        "print(type(file))\n",
        "print(len(file))\n",
        "\n",
        "# print(file[2])\n",
        "\n",
        "f.close()"
      ],
      "metadata": {
        "colab": {
          "base_uri": "https://localhost:8080/"
        },
        "id": "hmhzZiQyNBLg",
        "outputId": "99e8704e-9f27-4651-9d76-842141fc7d2c"
      },
      "execution_count": null,
      "outputs": [
        {
          "output_type": "stream",
          "name": "stdout",
          "text": [
            "['This is a Python Class.\\n', 'Key Points:\\n', '\\n', 'Python caches integers from -5 to 256.\\n', '\\n', 'Any integer within this range will refer to the same memory location when assigned to different variables.\\n', '\\n', 'Larger integers (outside this range) are created as separate objects in memory.\\n']\n",
            "<class 'list'>\n",
            "8\n"
          ]
        }
      ]
    },
    {
      "cell_type": "code",
      "source": [
        "a = 15"
      ],
      "metadata": {
        "id": "0M6vwRyEJqzq"
      },
      "execution_count": null,
      "outputs": []
    },
    {
      "cell_type": "code",
      "source": [
        "print(a)"
      ],
      "metadata": {
        "colab": {
          "base_uri": "https://localhost:8080/"
        },
        "id": "qMqXK8NBJrIQ",
        "outputId": "ecfb571b-14ec-442d-8113-c2b0e352ebee"
      },
      "execution_count": null,
      "outputs": [
        {
          "output_type": "stream",
          "name": "stdout",
          "text": [
            "10\n"
          ]
        }
      ]
    },
    {
      "cell_type": "code",
      "source": [
        "f = open('example99.txt', \"w\")\n",
        "f.write(\"Python Language\")\n",
        "f.close()\n"
      ],
      "metadata": {
        "id": "z1amR8lscxUA"
      },
      "execution_count": null,
      "outputs": []
    },
    {
      "cell_type": "code",
      "source": [
        "f = open('example99.txt', \"a\")\n",
        "f.write(\"\\nC++ Language\")\n",
        "f.close()"
      ],
      "metadata": {
        "id": "89JtmIu1d9Uv"
      },
      "execution_count": null,
      "outputs": []
    },
    {
      "cell_type": "code",
      "execution_count": null,
      "metadata": {
        "id": "tMgXDIsO9368"
      },
      "outputs": [],
      "source": [
        "### 1. Writing to a Text File\n",
        "f = open('example99.txt', \"w\")\n",
        "f.write(\"Python Language\")\n",
        "f.close()\n",
        "\n",
        "\n",
        "with open('example1.txt', 'w') as f:  #With automatically closes the file\n",
        "    f.write(\"Python Language\")\n",
        "    #Line 1\n",
        "    #Line 2\n",
        "    #Line 3\n"
      ]
    },
    {
      "cell_type": "code",
      "source": [
        "### 2. Reading from a Text File\n",
        "\n",
        "with open('demofile.txt', 'r') as file:\n",
        "    content = file.read()\n",
        "    print(content)"
      ],
      "metadata": {
        "colab": {
          "base_uri": "https://localhost:8080/"
        },
        "id": "02D54QcL_Fim",
        "outputId": "633d3e26-1772-4320-dc74-44129e7b0a63"
      },
      "execution_count": null,
      "outputs": [
        {
          "output_type": "stream",
          "name": "stdout",
          "text": [
            "This is a Python Class.\n",
            "Key Points:\n",
            "\n",
            "Python caches integers from -5 to 256.\n",
            "\n",
            "Any integer within this range will refer to the same memory location when assigned to different variables.\n",
            "\n",
            "Larger integers (outside this range) are created as separate objects in memory.\n",
            "\n"
          ]
        }
      ]
    },
    {
      "cell_type": "code",
      "source": [
        "### 3. Appending to a Text File\n",
        "\n",
        "with open('example1.txt', 'a') as file:\n",
        "    file.write('\\nAppended line.')"
      ],
      "metadata": {
        "id": "01wIoVMg_HN-"
      },
      "execution_count": null,
      "outputs": []
    },
    {
      "cell_type": "code",
      "source": [
        "### 4. Reading a File Line by Line\n",
        "count = 0\n",
        "with open('demofile.txt', 'r') as file:\n",
        "    print(type(file))\n",
        "    for line in file:\n",
        "        print(f\"Line # Read {count}\", line.strip())\n",
        "        count+=1"
      ],
      "metadata": {
        "colab": {
          "base_uri": "https://localhost:8080/"
        },
        "id": "jOeC87Pz_I8h",
        "outputId": "96aa929c-cc9d-4d60-f899-0a2ee82c432c"
      },
      "execution_count": null,
      "outputs": [
        {
          "output_type": "stream",
          "name": "stdout",
          "text": [
            "<class '_io.TextIOWrapper'>\n",
            "Line # Read 0 This is a Python Class.\n",
            "Line # Read 1 Key Points:\n",
            "Line # Read 2 \n",
            "Line # Read 3 Python caches integers from -5 to 256.\n",
            "Line # Read 4 \n",
            "Line # Read 5 Any integer within this range will refer to the same memory location when assigned to different variables.\n",
            "Line # Read 6 \n",
            "Line # Read 7 Larger integers (outside this range) are created as separate objects in memory.\n"
          ]
        }
      ]
    },
    {
      "cell_type": "code",
      "source": [
        "### 5. Writing Multiple Lines to a File\n",
        "\n",
        "lines = ['First line', 'Second line', 'Third line']\n",
        "with open('example.txt', 'w') as file:\n",
        "    file.writelines('\\n'.join(lines))"
      ],
      "metadata": {
        "id": "-pI21B0k_KbQ"
      },
      "execution_count": null,
      "outputs": []
    },
    {
      "cell_type": "code",
      "source": [
        "### 6. Reading Multiple Lines into a List\n",
        "\n",
        "with open('example.txt', 'r') as file:\n",
        "    lines = file.readlines()\n",
        "    print(lines)\n",
        "\n",
        "print(len(lines))"
      ],
      "metadata": {
        "colab": {
          "base_uri": "https://localhost:8080/"
        },
        "id": "YiP6ok_n_L-v",
        "outputId": "98a83b69-e24d-461a-a8c0-fe8a42e93b76"
      },
      "execution_count": null,
      "outputs": [
        {
          "output_type": "stream",
          "name": "stdout",
          "text": [
            "['First line\\n', 'Second line\\n', 'Third line']\n",
            "3\n"
          ]
        }
      ]
    },
    {
      "cell_type": "code",
      "source": [
        "### 7. Writing to a Binary File\n",
        "\n",
        "with open('example.bin', 'wb') as file:\n",
        "    file.write(b'\\x00\\x01\\x02\\x03')"
      ],
      "metadata": {
        "id": "88igYxBf_NqA"
      },
      "execution_count": null,
      "outputs": []
    },
    {
      "cell_type": "code",
      "source": [
        "### 8. Reading from a Binary File\n",
        "\n",
        "with open('example.bin', 'rb') as file:\n",
        "    content = file.read()\n",
        "    print(content)\n",
        "\n"
      ],
      "metadata": {
        "colab": {
          "base_uri": "https://localhost:8080/"
        },
        "id": "JZoi0I4j_QHD",
        "outputId": "8e4ad6ff-01c9-4282-8e14-af29c0231fc6"
      },
      "execution_count": null,
      "outputs": [
        {
          "output_type": "stream",
          "name": "stdout",
          "text": [
            "b'\\x00\\x01\\x02\\x03'\n"
          ]
        }
      ]
    },
    {
      "cell_type": "markdown",
      "source": [
        "Till Midsem :)\n"
      ],
      "metadata": {
        "id": "Td1fUbu4RQeZ"
      }
    },
    {
      "cell_type": "markdown",
      "source": [
        "What is the pickle module used for?\n",
        "The pickle module is used for serializing and deserializing Python objects. Serialization is the process of converting a Python object into a byte stream, and deserialization is the process of converting the byte stream back into a Python object. This is useful for saving Python objects to a file or sending them over a network.\n",
        "\n",
        "Simple Example:\n",
        "\n",
        "Before serialization: You have a Python dictionary ({\"name\": \"Alice\", \"age\": 30}).\n",
        "\n",
        "After serialization: It becomes a byte stream, which looks like a string of bytes (not human-readable, but efficient for storage or transfer).\n",
        "\n",
        "Deserialization: You unpack the byte stream and get back the original dictionary.\n"
      ],
      "metadata": {
        "id": "ahI5j5VgWEMx"
      }
    },
    {
      "cell_type": "code",
      "source": [
        "### 9. Writing a Pickle Object to a File\n",
        "\n",
        "import pickle\n",
        "\n",
        "# Example dictionary\n",
        "data = {\"name\": \"Alice\", \"age\": 25, \"city\": \"New York\"}\n",
        "\n",
        "# Writing to a binary file using pickle\n",
        "with open(\"data.pkl\", \"wb\") as file:\n",
        "    pickle.dump(data, file)"
      ],
      "metadata": {
        "id": "iE_mMDzF_RkS"
      },
      "execution_count": null,
      "outputs": []
    },
    {
      "cell_type": "code",
      "source": [
        "### 10. Reading a Pickle Object from a File\n",
        "\n",
        "with open(\"data.pkl\", \"rb\") as file:\n",
        "    loaded_data = pickle.load(file)\n",
        "\n",
        "print(loaded_data)  # Output: {'name': 'Alice', 'age': 25, 'city': 'New York'}"
      ],
      "metadata": {
        "colab": {
          "base_uri": "https://localhost:8080/"
        },
        "id": "afYEmgHM_TTO",
        "outputId": "d941b0a0-bcec-4f25-fa70-dad97e073205"
      },
      "execution_count": null,
      "outputs": [
        {
          "output_type": "stream",
          "name": "stdout",
          "text": [
            "{'name': 'Alice', 'age': 25, 'city': 'New York'}\n"
          ]
        }
      ]
    },
    {
      "cell_type": "code",
      "source": [
        "### 11. Writing JSON to a File\n",
        "\n",
        "import json\n",
        "\n",
        "data= {'India': 'New Delhi', \"France\":\"Paris\"}\n",
        "with open('example.json', 'w') as file:\n",
        "    json.dump(data, file)"
      ],
      "metadata": {
        "id": "5DHI0-Ru_VDd"
      },
      "execution_count": null,
      "outputs": []
    },
    {
      "cell_type": "code",
      "source": [
        "### 12. Reading JSON from a File\n",
        "\n",
        "import json\n",
        "\n",
        "with open('example.json', 'r') as file:\n",
        "    data = json.load(file)\n",
        "    print(data)"
      ],
      "metadata": {
        "colab": {
          "base_uri": "https://localhost:8080/"
        },
        "id": "9BBYzPOO_WwU",
        "outputId": "4696a4b5-4d77-4cc9-a32c-7ff83d5128eb"
      },
      "execution_count": null,
      "outputs": [
        {
          "output_type": "stream",
          "name": "stdout",
          "text": [
            "{'India': 'New Delhi'}\n"
          ]
        }
      ]
    },
    {
      "cell_type": "code",
      "source": [
        "### 15. Writing Data Using Context Manager\n",
        "# use of with clause\n",
        "\n",
        "data = 'Hello, world!'\n",
        "with open('example.txt', 'w') as file:\n",
        "    file.write(data)"
      ],
      "metadata": {
        "id": "SjhOE712_blX"
      },
      "execution_count": null,
      "outputs": []
    },
    {
      "cell_type": "code",
      "source": [
        "### 16. Reading Data Using Context Manager\n",
        "\n",
        "with open('example.txt', 'r') as file:\n",
        "    data = file.read()\n",
        "    print(data)"
      ],
      "metadata": {
        "colab": {
          "base_uri": "https://localhost:8080/"
        },
        "id": "S8PFRVbW_dC-",
        "outputId": "3949a7fa-56ac-4945-a4fe-54ec8ded82ba"
      },
      "execution_count": null,
      "outputs": [
        {
          "output_type": "stream",
          "name": "stdout",
          "text": [
            "Hello, world!\n"
          ]
        }
      ]
    },
    {
      "cell_type": "code",
      "source": [
        "### 17. Handling FileNotFoundError\n",
        "\n",
        "try:\n",
        "    with open('demofile-999.txt', 'r') as file:\n",
        "        content = file.read()\n",
        "        print(content)\n",
        "except FileNotFoundError:\n",
        "    print('File not found.')"
      ],
      "metadata": {
        "colab": {
          "base_uri": "https://localhost:8080/"
        },
        "id": "iGftJ-po_eoJ",
        "outputId": "e010d125-006f-4a02-b5d9-462545d5a1de"
      },
      "execution_count": null,
      "outputs": [
        {
          "output_type": "stream",
          "name": "stdout",
          "text": [
            "File not found.\n"
          ]
        }
      ]
    },
    {
      "cell_type": "code",
      "source": [
        "### 18. Handling IOError\n",
        "\n",
        "try:\n",
        "    with open('example.txt', 'r') as file:\n",
        "        content = file.read()\n",
        "        print(content)\n",
        "except IOError:\n",
        "    print('Error occurred while handling the file.')"
      ],
      "metadata": {
        "id": "pUPSviVR_gKG",
        "colab": {
          "base_uri": "https://localhost:8080/"
        },
        "outputId": "e0fe812a-f098-4640-d80b-d465dc74f143"
      },
      "execution_count": null,
      "outputs": [
        {
          "output_type": "stream",
          "name": "stdout",
          "text": [
            "Hello, world!\n"
          ]
        }
      ]
    },
    {
      "cell_type": "code",
      "source": [
        "### 19. Writing Data with Specified Encoding\n",
        "\n",
        "text = 'Hello, world!'\n",
        "with open('example_utf8.txt', 'w', encoding='utf-8') as file:\n",
        "    file.write(text)"
      ],
      "metadata": {
        "id": "2TvJPeTm_huE"
      },
      "execution_count": null,
      "outputs": []
    },
    {
      "cell_type": "code",
      "source": [
        "### 20. Reading Data with Specified Encoding\n",
        "\n",
        "with open('example_utf8.txt', 'r', encoding='utf-8') as file:\n",
        "    content = file.read()\n",
        "    print(content)"
      ],
      "metadata": {
        "colab": {
          "base_uri": "https://localhost:8080/"
        },
        "id": "zC9px8Qf_jQm",
        "outputId": "c6fbca0b-6e23-4cf9-e785-894bc31cda08"
      },
      "execution_count": null,
      "outputs": [
        {
          "output_type": "stream",
          "name": "stdout",
          "text": [
            "Hello, world!\n"
          ]
        }
      ]
    }
  ]
}